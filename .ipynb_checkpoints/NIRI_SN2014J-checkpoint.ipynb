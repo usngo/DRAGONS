{
 "cells": [
  {
   "cell_type": "markdown",
   "metadata": {},
   "source": [
    "# Gemini NIRI reduction using DRAGONS Python API\n",
    "***\n",
    "## Public archival data from niriimg_tutorial - GN-2015B-Q-31 (SN2014J)\n",
    "#### adapted from https://niriimg-drtutorial.readthedocs.io/en/release-2.1.x/04_extended_api.html\n",
    "#### don't forget to `conda install -n dragons nb_conda_kernels ipykernel` to run this notebook on the DRAGONS env \n",
    "***"
   ]
  },
  {
   "cell_type": "markdown",
   "metadata": {},
   "source": [
    "**Importing Python Libraries** (you'll probably have to install the `wget` and `ipympl` libraries)"
   ]
  },
  {
   "cell_type": "code",
   "execution_count": null,
   "metadata": {},
   "outputs": [],
   "source": [
    "from __future__ import print_function\n",
    "\n",
    "import glob\n",
    "import wget\n",
    "\n",
    "from gempy.adlibrary import dataselect\n",
    "from recipe_system import cal_service\n",
    "from recipe_system.reduction.coreReduce import Reduce\n",
    "from gempy.utils import logutils\n",
    "\n",
    "from astropy.io import fits\n",
    "import numpy as np\n",
    "import matplotlib.pyplot as plt\n",
    "import matplotlib.colors as colors\n",
    "import matplotlib.cbook as cbook\n",
    "from matplotlib.colors import LogNorm\n",
    "from matplotlib.colors import Normalize\n",
    "from matplotlib.colors import PowerNorm\n",
    "\n",
    "from collections import namedtuple\n",
    "\n",
    "#%matplotlib widget\n",
    "%matplotlib inline"
   ]
  },
  {
   "cell_type": "markdown",
   "metadata": {},
   "source": [
    "**Downloading the data** (direct link to .tar file hosted at Gemini - 48 Megabytes)"
   ]
  },
  {
   "cell_type": "code",
   "execution_count": null,
   "metadata": {},
   "outputs": [],
   "source": [
    "# uncomment the line and run the cell\n",
    "#\n",
    "#wget.download(\"http://www.gemini.edu/sciops/data/software/datapkgs/niriimg_tutorial_datapkg-v1.tar\")"
   ]
  },
  {
   "cell_type": "markdown",
   "metadata": {},
   "source": [
    "**Downloading the data** (individual files - direct link to the Gemini Archive - 221 Megabytes)"
   ]
  },
  {
   "cell_type": "code",
   "execution_count": null,
   "metadata": {},
   "outputs": [],
   "source": [
    "# uncomment the lines and run the cell\n",
    "#\n",
    "# Science \n",
    "#\n",
    "#wget.download(\"http://archive.gemini.edu/file/N20160102S0270.fits\")\n",
    "#wget.download(\"http://archive.gemini.edu/file/N20160102S0271.fits\")\n",
    "#wget.download(\"http://archive.gemini.edu/file/N20160102S0272.fits\")\n",
    "#wget.download(\"http://archive.gemini.edu/file/N20160102S0273.fits\")\n",
    "#wget.download(\"http://archive.gemini.edu/file/N20160102S0274.fits\")\n",
    "#wget.download(\"http://archive.gemini.edu/file/N20160102S0275.fits\")\n",
    "#wget.download(\"http://archive.gemini.edu/file/N20160102S0276.fits\")\n",
    "#wget.download(\"http://archive.gemini.edu/file/N20160102S0277.fits\")\n",
    "#wget.download(\"http://archive.gemini.edu/file/N20160102S0278.fits\")\n",
    "#wget.download(\"http://archive.gemini.edu/file/N20160102S0279.fits\")\n",
    "\n",
    "# Science darks\n",
    "#\n",
    "#wget.download(\"http://archive.gemini.edu/file/N20160102S0423.fits\")\n",
    "#wget.download(\"http://archive.gemini.edu/file/N20160102S0424.fits\")\n",
    "#wget.download(\"http://archive.gemini.edu/file/N20160102S0425.fits\")\n",
    "#wget.download(\"http://archive.gemini.edu/file/N20160102S0426.fits\")\n",
    "#wget.download(\"http://archive.gemini.edu/file/N20160102S0427.fits\")\n",
    "#wget.download(\"http://archive.gemini.edu/file/N20160102S0428.fits\")\n",
    "#wget.download(\"http://archive.gemini.edu/file/N20160102S0429.fits\")\n",
    "#wget.download(\"http://archive.gemini.edu/file/N20160102S0430.fits\")\n",
    "#wget.download(\"http://archive.gemini.edu/file/N20160102S0431.fits\")\n",
    "#wget.download(\"http://archive.gemini.edu/file/N20160102S0432.fits\")\n",
    "\n",
    "# Flats \n",
    "#\n",
    "#wget.download(\"http://archive.gemini.edu/file/N20160102S0363.fits\")\n",
    "#wget.download(\"http://archive.gemini.edu/file/N20160102S0364.fits\")\n",
    "#wget.download(\"http://archive.gemini.edu/file/N20160102S0365.fits\")\n",
    "#wget.download(\"http://archive.gemini.edu/file/N20160102S0366.fits\")\n",
    "#wget.download(\"http://archive.gemini.edu/file/N20160102S0367.fits\")\n",
    "#wget.download(\"http://archive.gemini.edu/file/N20160102S0368.fits\")\n",
    "#wget.download(\"http://archive.gemini.edu/file/N20160102S0369.fits\")\n",
    "#wget.download(\"http://archive.gemini.edu/file/N20160102S0370.fits\")\n",
    "#wget.download(\"http://archive.gemini.edu/file/N20160102S0371.fits\")\n",
    "#wget.download(\"http://archive.gemini.edu/file/N20160102S0372.fits\")\n",
    "#wget.download(\"http://archive.gemini.edu/file/N20160102S0373.fits\")\n",
    "#wget.download(\"http://archive.gemini.edu/file/N20160102S0374.fits\")\n",
    "#wget.download(\"http://archive.gemini.edu/file/N20160102S0375.fits\")\n",
    "#wget.download(\"http://archive.gemini.edu/file/N20160102S0376.fits\")\n",
    "#wget.download(\"http://archive.gemini.edu/file/N20160102S0377.fits\")\n",
    "#wget.download(\"http://archive.gemini.edu/file/N20160102S0378.fits\")\n",
    "#wget.download(\"http://archive.gemini.edu/file/N20160102S0379.fits\")\n",
    "#wget.download(\"http://archive.gemini.edu/file/N20160102S0380.fits\")\n",
    "#wget.download(\"http://archive.gemini.edu/file/N20160102S0381.fits\")\n",
    "#wget.download(\"http://archive.gemini.edu/file/N20160102S0382.fits\")\n",
    "\n",
    "# Short darks\n",
    "#\n",
    "#wget.download(\"http://archive.gemini.edu/file/N20160103S0463.fits\")\n",
    "#wget.download(\"http://archive.gemini.edu/file/N20160103S0464.fits\")\n",
    "#wget.download(\"http://archive.gemini.edu/file/N20160103S0465.fits\")\n",
    "#wget.download(\"http://archive.gemini.edu/file/N20160103S0466.fits\")\n",
    "#wget.download(\"http://archive.gemini.edu/file/N20160103S0467.fits\")\n",
    "#wget.download(\"http://archive.gemini.edu/file/N20160103S0468.fits\")\n",
    "#wget.download(\"http://archive.gemini.edu/file/N20160103S0469.fits\")\n",
    "#wget.download(\"http://archive.gemini.edu/file/N20160103S0470.fits\")\n",
    "#wget.download(\"http://archive.gemini.edu/file/N20160103S0471.fits\")\n",
    "#wget.download(\"http://archive.gemini.edu/file/N20160103S0472.fits\")\n",
    "\n",
    "# Standard star\n",
    "#\n",
    "#wget.download(\"http://archive.gemini.edu/file/N20160102S0295.fits\")\n",
    "#wget.download(\"http://archive.gemini.edu/file/N20160102S0296.fits\")\n",
    "#wget.download(\"http://archive.gemini.edu/file/N20160102S0297.fits\")\n",
    "#wget.download(\"http://archive.gemini.edu/file/N20160102S0298.fits\")\n",
    "#wget.download(\"http://archive.gemini.edu/file/N20160102S0299.fits\")"
   ]
  },
  {
   "cell_type": "markdown",
   "metadata": {},
   "source": [
    "**Create and move data to raw/ directory** (uncomment first)"
   ]
  },
  {
   "cell_type": "code",
   "execution_count": null,
   "metadata": {},
   "outputs": [],
   "source": [
    "#!mkdir raw/\n",
    "#!mv S2017*.fits raw/"
   ]
  },
  {
   "cell_type": "code",
   "execution_count": null,
   "metadata": {},
   "outputs": [],
   "source": [
    "# Check header of one raw science image\n",
    "#\n",
    "tmp = fits.open(\"raw/N20160102S0270.fits\")\n",
    "tmp[0].header"
   ]
  },
  {
   "cell_type": "markdown",
   "metadata": {},
   "source": [
    "**Setting up the DRAGONS logger**"
   ]
  },
  {
   "cell_type": "code",
   "execution_count": null,
   "metadata": {},
   "outputs": [],
   "source": [
    "logutils.config(file_name='niri_data_reduction.log')"
   ]
  },
  {
   "cell_type": "markdown",
   "metadata": {},
   "source": [
    "**Setting up the Calibration Service**\n",
    "\n",
    "First, check that you have already a `rsys.cfg` file inside the `~/.geminidr/`. It should contain:\n",
    "\n",
    "```[calibs]\n",
    "standalone = True\n",
    "database_dir = /path_to_this_folder/```"
   ]
  },
  {
   "cell_type": "code",
   "execution_count": null,
   "metadata": {},
   "outputs": [],
   "source": [
    "caldb = cal_service.CalibrationService()\n",
    "caldb.config()\n",
    "caldb.init()\n",
    "\n",
    "cal_service.set_calservice()"
   ]
  },
  {
   "cell_type": "markdown",
   "metadata": {},
   "source": [
    "**Create a list of all the FITS files in the directory**"
   ]
  },
  {
   "cell_type": "code",
   "execution_count": null,
   "metadata": {},
   "outputs": [],
   "source": [
    "all_files = glob.glob('raw/N2016*[0-9].fits')\n",
    "all_files.sort()\n",
    "#all_files"
   ]
  },
  {
   "cell_type": "markdown",
   "metadata": {},
   "source": [
    "**List of darks, flats, standard star, and science frames**"
   ]
  },
  {
   "cell_type": "code",
   "execution_count": null,
   "metadata": {},
   "outputs": [],
   "source": [
    "darks1s = dataselect.select_data(\n",
    "    all_files, ['DARK'], [],\n",
    "    dataselect.expr_parser('exposure_time==1'))\n",
    "\n",
    "darks20s = dataselect.select_data(\n",
    "    all_files, ['DARK'], [],\n",
    "    dataselect.expr_parser('exposure_time==20'))\n",
    "\n",
    "flats = dataselect.select_data(all_files, ['FLAT'])\n",
    "\n",
    "stdstar = dataselect.select_data(\n",
    "    all_files, [], [],\n",
    "    dataselect.expr_parser('object==\"FS 17\"'))\n",
    "\n",
    "target = dataselect.select_data(\n",
    "    all_files, ['IMAGE'], ['FLAT'],\n",
    "    dataselect.expr_parser('object!=\"FS 17\"'))"
   ]
  },
  {
   "cell_type": "markdown",
   "metadata": {},
   "source": [
    "**Create Master Dark and add to the calibration database**"
   ]
  },
  {
   "cell_type": "code",
   "execution_count": null,
   "metadata": {},
   "outputs": [],
   "source": [
    "reduce_darks = Reduce()\n",
    "reduce_darks.files.extend(darks20s)\n",
    "reduce_darks.runr()\n",
    "\n",
    "caldb.add_cal(reduce_darks.output_filenames[0])"
   ]
  },
  {
   "cell_type": "markdown",
   "metadata": {},
   "source": [
    "**Create Bad Pixel Mask**"
   ]
  },
  {
   "cell_type": "code",
   "execution_count": null,
   "metadata": {},
   "outputs": [],
   "source": [
    "reduce_bpm = Reduce()\n",
    "reduce_bpm.files.extend(flats)\n",
    "reduce_bpm.files.extend(darks1s)\n",
    "reduce_bpm.recipename = 'makeProcessedBPM'\n",
    "reduce_bpm.runr()\n",
    "\n",
    "bpm = reduce_bpm.output_filenames[0]"
   ]
  },
  {
   "cell_type": "markdown",
   "metadata": {},
   "source": [
    "**Create Master Flat Field and add to the calibration database**"
   ]
  },
  {
   "cell_type": "code",
   "execution_count": null,
   "metadata": {},
   "outputs": [],
   "source": [
    "reduce_flats = Reduce()\n",
    "reduce_flats.files.extend(flats)\n",
    "reduce_flats.uparms = [('addDQ:user_bpm', bpm)]\n",
    "reduce_flats.runr()\n",
    "\n",
    "caldb.add_cal(reduce_flats.output_filenames[0])"
   ]
  },
  {
   "cell_type": "markdown",
   "metadata": {},
   "source": [
    "**Reduce Standard Star**"
   ]
  },
  {
   "cell_type": "code",
   "execution_count": null,
   "metadata": {},
   "outputs": [],
   "source": [
    "reduce_std = Reduce()\n",
    "reduce_std.files.extend(stdstar)\n",
    "reduce_std.uparms = [('addDQ:user_bpm', bpm)]\n",
    "reduce_std.uparms.append(('darkCorrect:do_dark', False))\n",
    "reduce_std.runr()"
   ]
  },
  {
   "cell_type": "markdown",
   "metadata": {},
   "source": [
    "**Reduce Science Images**"
   ]
  },
  {
   "cell_type": "code",
   "execution_count": null,
   "metadata": {},
   "outputs": [],
   "source": [
    "reduce_target = Reduce()\n",
    "reduce_target.files.extend(target)\n",
    "reduce_target.uparms = [('addDQ:user_bpm', bpm)]\n",
    "reduce_target.uparms.append(('skyCorrect:scale_sky', False))\n",
    "reduce_target.runr()"
   ]
  },
  {
   "cell_type": "markdown",
   "metadata": {},
   "source": [
    "**Display the Stacked Image**"
   ]
  },
  {
   "cell_type": "code",
   "execution_count": null,
   "metadata": {
    "scrolled": true
   },
   "outputs": [],
   "source": [
    "image_file = \"N20160102S0271_stack.fits\"\n",
    "hdu_list = fits.open(image_file)\n",
    "hdu_list.info()"
   ]
  },
  {
   "cell_type": "code",
   "execution_count": null,
   "metadata": {},
   "outputs": [],
   "source": [
    "image_data = fits.getdata(image_file, ext=1)\n",
    "print(image_data.shape)"
   ]
  },
  {
   "cell_type": "code",
   "execution_count": null,
   "metadata": {
    "scrolled": false
   },
   "outputs": [],
   "source": [
    "plt.figure(figsize = (15,15))\n",
    "plt.imshow(image_data,cmap='bone',norm=Normalize(vmin=1, vmax=50000))\n",
    "#plt.xlim(900,2500)\n",
    "#plt.ylim(1600,600)\n",
    "plt.show()"
   ]
  },
  {
   "cell_type": "markdown",
   "metadata": {},
   "source": [
    "**Optional: remove raw data (uncomment lines before running)**"
   ]
  },
  {
   "cell_type": "code",
   "execution_count": null,
   "metadata": {},
   "outputs": [],
   "source": [
    "#!rm -rf raw/"
   ]
  }
 ],
 "metadata": {
  "kernelspec": {
   "display_name": "Python [conda env:dragons] *",
   "language": "python",
   "name": "conda-env-dragons-py"
  },
  "language_info": {
   "codemirror_mode": {
    "name": "ipython",
    "version": 3
   },
   "file_extension": ".py",
   "mimetype": "text/x-python",
   "name": "python",
   "nbconvert_exporter": "python",
   "pygments_lexer": "ipython3",
   "version": "3.6.12"
  }
 },
 "nbformat": 4,
 "nbformat_minor": 4
}
