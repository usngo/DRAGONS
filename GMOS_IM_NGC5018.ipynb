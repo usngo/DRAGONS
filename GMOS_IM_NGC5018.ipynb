{
 "cells": [
  {
   "cell_type": "markdown",
   "metadata": {},
   "source": [
    "# Gemini GMOS Photometry reduction using DRAGONS Python API\n",
    "***\n",
    "## Public archival data from program GS2018A-Q-207 - NGC5018\n",
    "#### adapted from https://gmosimg-drtutorial.readthedocs.io/en/v2.1.1/03_api_reduction.html\n",
    "#### don't forget to `conda install -n dragons nb_conda_kernels ipykernel` to run this notebook on the DRAGONS env\n",
    "***"
   ]
  },
  {
   "cell_type": "markdown",
   "metadata": {},
   "source": [
    "**Importing Python Libraries** (you'll probably have to install the `wget` and `ipympl` libraries)"
   ]
  },
  {
   "cell_type": "code",
   "execution_count": 1,
   "metadata": {
    "scrolled": true
   },
   "outputs": [],
   "source": [
    "from __future__ import print_function\n",
    "\n",
    "import glob\n",
    "import wget\n",
    "\n",
    "from gempy.adlibrary import dataselect\n",
    "from recipe_system import cal_service\n",
    "from recipe_system.reduction.coreReduce import Reduce\n",
    "from gempy.utils import logutils\n",
    "\n",
    "from astropy.io import fits\n",
    "import numpy as np\n",
    "import matplotlib.pyplot as plt\n",
    "import matplotlib.colors as colors\n",
    "import matplotlib.cbook as cbook\n",
    "from matplotlib.colors import LogNorm\n",
    "from matplotlib.colors import PowerNorm\n",
    "\n",
    "#%matplotlib widget\n",
    "%matplotlib inline"
   ]
  },
  {
   "cell_type": "markdown",
   "metadata": {},
   "source": [
    "**Downloading the data**"
   ]
  },
  {
   "cell_type": "code",
   "execution_count": 9,
   "metadata": {},
   "outputs": [
    {
     "data": {
      "text/plain": [
       "'S20180423S0054.fits'"
      ]
     },
     "execution_count": 9,
     "metadata": {},
     "output_type": "execute_result"
    }
   ],
   "source": [
    "# Science data from GS2018A-Q-207\n",
    "wget.download(\"http://archive.gemini.edu/file/S20180419S0098.fits\")\n",
    "wget.download(\"http://archive.gemini.edu/file/S20180419S0099.fits\")\n",
    "wget.download(\"http://archive.gemini.edu/file/S20180419S0100.fits\")\n",
    "wget.download(\"http://archive.gemini.edu/file/S20180419S0101.fits\")\n",
    "wget.download(\"http://archive.gemini.edu/file/S20180419S0102.fits\")\n",
    "# Twilight flats \n",
    "wget.download(\"http://archive.gemini.edu/file/S20180419S0207.fits\")\n",
    "wget.download(\"http://archive.gemini.edu/file/S20180419S0208.fits\")\n",
    "wget.download(\"http://archive.gemini.edu/file/S20180419S0209.fits\")\n",
    "wget.download(\"http://archive.gemini.edu/file/S20180419S0210.fits\")\n",
    "wget.download(\"http://archive.gemini.edu/file/S20180419S0211.fits\")\n",
    "# Biases \n",
    "wget.download(\"http://archive.gemini.edu/file/S20180423S0050.fits\")\n",
    "wget.download(\"http://archive.gemini.edu/file/S20180423S0051.fits\")\n",
    "wget.download(\"http://archive.gemini.edu/file/S20180423S0052.fits\")\n",
    "wget.download(\"http://archive.gemini.edu/file/S20180423S0053.fits\")\n",
    "wget.download(\"http://archive.gemini.edu/file/S20180423S0054.fits\")"
   ]
  },
  {
   "cell_type": "markdown",
   "metadata": {},
   "source": [
    "**Create and move data to raw/ directory**"
   ]
  },
  {
   "cell_type": "code",
   "execution_count": 10,
   "metadata": {},
   "outputs": [],
   "source": [
    "!mkdir raw/\n",
    "!mv S2018*.fits raw/"
   ]
  },
  {
   "cell_type": "markdown",
   "metadata": {},
   "source": [
    "**Setting up the DRAGONS logger**"
   ]
  },
  {
   "cell_type": "code",
   "execution_count": 2,
   "metadata": {},
   "outputs": [],
   "source": [
    "logutils.config(file_name='gmos_data_reduction.log')"
   ]
  },
  {
   "cell_type": "markdown",
   "metadata": {},
   "source": [
    "**Setting up the Calibration Service**\n",
    "\n",
    "First, check that you have already a `rsys.cfg` file inside the `~/.geminidr/`. It should contain:\n",
    "\n",
    "```[calibs]\n",
    "standalone = True\n",
    "database_dir = /path_to_this_folder/```"
   ]
  },
  {
   "cell_type": "code",
   "execution_count": 3,
   "metadata": {},
   "outputs": [
    {
     "name": "stdout",
     "output_type": "stream",
     "text": [
      "CalibrationService is configured as standalone.\n",
      "The configured local database will be used.\n"
     ]
    }
   ],
   "source": [
    "caldb = cal_service.CalibrationService()\n",
    "caldb.config()\n",
    "caldb.init()\n",
    "\n",
    "cal_service.set_calservice()"
   ]
  },
  {
   "cell_type": "markdown",
   "metadata": {},
   "source": [
    "**Create a list of all the FITS files in the directory**"
   ]
  },
  {
   "cell_type": "code",
   "execution_count": 7,
   "metadata": {},
   "outputs": [],
   "source": [
    "all_files = glob.glob('raw/S2018*[0-9].fits')\n",
    "all_files.sort()\n",
    "#all_files"
   ]
  },
  {
   "cell_type": "markdown",
   "metadata": {},
   "source": [
    "**List of Biases, Flats, and Science frames**"
   ]
  },
  {
   "cell_type": "code",
   "execution_count": 6,
   "metadata": {},
   "outputs": [],
   "source": [
    "list_biases  = dataselect.select_data(all_files,['BIAS'],[])\n",
    "list_flats   = dataselect.select_data(all_files,['FLAT'],[],\n",
    "                                      dataselect.expr_parser('filter_name==\"g\"'))\n",
    "list_science = dataselect.select_data(all_files,[],['CAL'],\n",
    "                                      dataselect.expr_parser('(observation_class==\"science\" and filter_name==\"g\")'))"
   ]
  },
  {
   "cell_type": "markdown",
   "metadata": {},
   "source": [
    "**Make master Bias/Flat and add to the calibration database**"
   ]
  },
  {
   "cell_type": "code",
   "execution_count": 25,
   "metadata": {
    "collapsed": true
   },
   "outputs": [
    {
     "name": "stderr",
     "output_type": "stream",
     "text": [
      "All submitted files appear valid:\n",
      "raw/S20180423S0050.fits ... raw/S20180423S0054.fits, 5 files submitted.\n",
      "================================================================================\n",
      "RECIPE: _default\n",
      "================================================================================\n",
      "   PRIMITIVE: prepare\n",
      "   ------------------\n",
      "      PRIMITIVE: validateData\n",
      "      -----------------------\n",
      "      .\n",
      "      PRIMITIVE: standardizeStructure\n",
      "      -------------------------------\n",
      "      .\n",
      "      PRIMITIVE: standardizeHeaders\n",
      "      -----------------------------\n",
      "         PRIMITIVE: standardizeObservatoryHeaders\n",
      "         ----------------------------------------\n",
      "         Updating keywords that are common to all Gemini data\n",
      "         Updating keywords that are common to all Gemini data\n",
      "         Updating keywords that are common to all Gemini data\n",
      "         Updating keywords that are common to all Gemini data\n",
      "         Updating keywords that are common to all Gemini data\n",
      "         .\n",
      "         PRIMITIVE: standardizeInstrumentHeaders\n",
      "         ---------------------------------------\n",
      "         Updating keywords that are specific to GMOS\n",
      "         Updating keywords that are specific to GMOS\n",
      "         Updating keywords that are specific to GMOS\n",
      "         Updating keywords that are specific to GMOS\n",
      "         Updating keywords that are specific to GMOS\n",
      "         .\n",
      "      .\n",
      "   .\n",
      "   PRIMITIVE: addDQ\n",
      "   ----------------\n",
      "   .\n",
      "   PRIMITIVE: addVAR\n",
      "   -----------------\n",
      "   Adding the read noise component of the variance\n",
      "   .\n",
      "   PRIMITIVE: overscanCorrect\n",
      "   --------------------------\n",
      "      PRIMITIVE: subtractOverscan\n",
      "      ---------------------------\n",
      "         PRIMITIVE: subtractOverscan\n",
      "         ---------------------------\n",
      "         .\n",
      "      .\n",
      "      PRIMITIVE: trimOverscan\n",
      "      -----------------------\n",
      "      .\n",
      "   .\n",
      "   PRIMITIVE: stackFrames\n",
      "   ----------------------\n",
      "   Combining EXTVER 1.\n",
      "   \n",
      "   Combining EXTVER 2.\n",
      "   \n",
      "   Combining EXTVER 3.\n",
      "   \n",
      "   Combining EXTVER 4.\n",
      "   \n",
      "   Combining EXTVER 5.\n",
      "   \n",
      "   Combining EXTVER 6.\n",
      "   \n",
      "   Combining EXTVER 7.\n",
      "   \n",
      "   Combining EXTVER 8.\n",
      "   \n",
      "   Combining EXTVER 9.\n",
      "   \n",
      "   Combining EXTVER 10.\n",
      "   \n",
      "   Combining EXTVER 11.\n",
      "   \n",
      "   Combining EXTVER 12.\n",
      "   \n",
      "   .\n",
      "   PRIMITIVE: makeIRAFCompatible\n",
      "   -----------------------------\n",
      "   .\n",
      "   PRIMITIVE: storeProcessedBias\n",
      "   -----------------------------\n",
      "      PRIMITIVE: storeCalibration\n",
      "      ---------------------------\n",
      "      Calibration stored as calibrations/processed_bias/S20180423S0050_bias.fits\n",
      "      .\n",
      "   .\n",
      "\tWrote S20180423S0050_bias.fits in output directory\n",
      "\n",
      "reduce completed successfully.\n"
     ]
    }
   ],
   "source": [
    "reduce_bias = Reduce()\n",
    "reduce_bias.files.extend(list_biases)\n",
    "reduce_bias.runr()\n",
    "\n",
    "reduce_flats = Reduce()\n",
    "reduce_flats.files.extend(list_flats)\n",
    "reduce_flats.runr()\n",
    "\n",
    "caldb.add_cal(reduce_bias.output_filenames[0])\n",
    "caldb.add_cal(reduce_flats.output_filenames[0])"
   ]
  },
  {
   "cell_type": "markdown",
   "metadata": {},
   "source": [
    "**Reduce Science Images**"
   ]
  },
  {
   "cell_type": "code",
   "execution_count": 28,
   "metadata": {
    "collapsed": true
   },
   "outputs": [
    {
     "name": "stderr",
     "output_type": "stream",
     "text": [
      "All submitted files appear valid:\n",
      "raw/S20180419S0098.fits ... raw/S20180419S0102.fits, 5 files submitted.\n",
      "================================================================================\n",
      "RECIPE: _default\n",
      "================================================================================\n",
      "   PRIMITIVE: prepare\n",
      "   ------------------\n",
      "      PRIMITIVE: validateData\n",
      "      -----------------------\n",
      "      .\n",
      "      PRIMITIVE: standardizeStructure\n",
      "      -------------------------------\n",
      "      .\n",
      "      PRIMITIVE: standardizeHeaders\n",
      "      -----------------------------\n",
      "         PRIMITIVE: standardizeObservatoryHeaders\n",
      "         ----------------------------------------\n",
      "         Updating keywords that are common to all Gemini data\n",
      "         Updating keywords that are common to all Gemini data\n",
      "         Updating keywords that are common to all Gemini data\n",
      "         Updating keywords that are common to all Gemini data\n",
      "         Updating keywords that are common to all Gemini data\n",
      "         .\n",
      "         PRIMITIVE: standardizeInstrumentHeaders\n",
      "         ---------------------------------------\n",
      "         Updating keywords that are specific to GMOS\n",
      "         Updating keywords that are specific to GMOS\n",
      "         Updating keywords that are specific to GMOS\n",
      "         Updating keywords that are specific to GMOS\n",
      "         Updating keywords that are specific to GMOS\n",
      "         .\n",
      "      .\n",
      "   .\n",
      "   PRIMITIVE: addDQ\n",
      "   ----------------\n",
      "   .\n",
      "   PRIMITIVE: addVAR\n",
      "   -----------------\n",
      "   Adding the read noise component of the variance\n",
      "   .\n",
      "   PRIMITIVE: overscanCorrect\n",
      "   --------------------------\n",
      "      PRIMITIVE: subtractOverscan\n",
      "      ---------------------------\n",
      "         PRIMITIVE: subtractOverscan\n",
      "         ---------------------------\n",
      "         .\n",
      "      .\n",
      "      PRIMITIVE: trimOverscan\n",
      "      -----------------------\n",
      "      .\n",
      "   .\n",
      "   PRIMITIVE: biasCorrect\n",
      "   ----------------------\n",
      "      PRIMITIVE: getProcessedBias\n",
      "      ---------------------------\n",
      "         PRIMITIVE: getCalibration\n",
      "         -------------------------\n",
      "         .\n",
      "      .\n",
      "   .\n",
      "   PRIMITIVE: ADUToElectrons\n",
      "   -------------------------\n",
      "   Converting S20180419S0098_biasCorrected.fits from ADU to electrons by multiplying by the gain\n",
      "     gain for EXTVER 1 = 1.834\n",
      "     gain for EXTVER 2 = 1.874\n",
      "     gain for EXTVER 3 = 1.878\n",
      "     gain for EXTVER 4 = 1.852\n",
      "     gain for EXTVER 5 = 1.908\n",
      "     gain for EXTVER 6 = 1.933\n",
      "     gain for EXTVER 7 = 1.84\n",
      "     gain for EXTVER 8 = 1.878\n",
      "     gain for EXTVER 9 = 1.813\n",
      "     gain for EXTVER 10 = 1.724\n",
      "     gain for EXTVER 11 = 1.761\n",
      "     gain for EXTVER 12 = 1.652\n",
      "   Converting S20180419S0099_biasCorrected.fits from ADU to electrons by multiplying by the gain\n",
      "     gain for EXTVER 1 = 1.834\n",
      "     gain for EXTVER 2 = 1.874\n",
      "     gain for EXTVER 3 = 1.878\n",
      "     gain for EXTVER 4 = 1.852\n",
      "     gain for EXTVER 5 = 1.908\n",
      "     gain for EXTVER 6 = 1.933\n",
      "     gain for EXTVER 7 = 1.84\n",
      "     gain for EXTVER 8 = 1.878\n",
      "     gain for EXTVER 9 = 1.813\n",
      "     gain for EXTVER 10 = 1.724\n",
      "     gain for EXTVER 11 = 1.761\n",
      "     gain for EXTVER 12 = 1.652\n",
      "   Converting S20180419S0100_biasCorrected.fits from ADU to electrons by multiplying by the gain\n",
      "     gain for EXTVER 1 = 1.834\n",
      "     gain for EXTVER 2 = 1.874\n",
      "     gain for EXTVER 3 = 1.878\n",
      "     gain for EXTVER 4 = 1.852\n",
      "     gain for EXTVER 5 = 1.908\n",
      "     gain for EXTVER 6 = 1.933\n",
      "     gain for EXTVER 7 = 1.84\n",
      "     gain for EXTVER 8 = 1.878\n",
      "     gain for EXTVER 9 = 1.813\n",
      "     gain for EXTVER 10 = 1.724\n",
      "     gain for EXTVER 11 = 1.761\n",
      "     gain for EXTVER 12 = 1.652\n",
      "   Converting S20180419S0101_biasCorrected.fits from ADU to electrons by multiplying by the gain\n",
      "     gain for EXTVER 1 = 1.834\n",
      "     gain for EXTVER 2 = 1.874\n",
      "     gain for EXTVER 3 = 1.878\n",
      "     gain for EXTVER 4 = 1.852\n",
      "     gain for EXTVER 5 = 1.908\n",
      "     gain for EXTVER 6 = 1.933\n",
      "     gain for EXTVER 7 = 1.84\n",
      "     gain for EXTVER 8 = 1.878\n",
      "     gain for EXTVER 9 = 1.813\n",
      "     gain for EXTVER 10 = 1.724\n",
      "     gain for EXTVER 11 = 1.761\n",
      "     gain for EXTVER 12 = 1.652\n",
      "   Converting S20180419S0102_biasCorrected.fits from ADU to electrons by multiplying by the gain\n",
      "     gain for EXTVER 1 = 1.834\n",
      "     gain for EXTVER 2 = 1.874\n",
      "     gain for EXTVER 3 = 1.878\n",
      "     gain for EXTVER 4 = 1.852\n",
      "     gain for EXTVER 5 = 1.908\n",
      "     gain for EXTVER 6 = 1.933\n",
      "     gain for EXTVER 7 = 1.84\n",
      "     gain for EXTVER 8 = 1.878\n",
      "     gain for EXTVER 9 = 1.813\n",
      "     gain for EXTVER 10 = 1.724\n",
      "     gain for EXTVER 11 = 1.761\n",
      "     gain for EXTVER 12 = 1.652\n",
      "   .\n",
      "   PRIMITIVE: addVAR\n",
      "   -----------------\n",
      "   Adding the Poisson noise component of the variance\n",
      "   .\n",
      "   PRIMITIVE: flatCorrect\n",
      "   ----------------------\n",
      "      PRIMITIVE: getProcessedFlat\n",
      "      ---------------------------\n",
      "         PRIMITIVE: getCalibration\n",
      "         -------------------------\n",
      "         .\n",
      "      .\n",
      "   .\n",
      "   PRIMITIVE: fringeCorrect\n",
      "   ------------------------\n",
      "   No fringe correction necessary for S20180419S0098_flatCorrected.fits with filter g\n",
      "   No fringe correction necessary for S20180419S0099_flatCorrected.fits with filter g\n",
      "   No fringe correction necessary for S20180419S0100_flatCorrected.fits with filter g\n",
      "   No fringe correction necessary for S20180419S0101_flatCorrected.fits with filter g\n",
      "   No fringe correction necessary for S20180419S0102_flatCorrected.fits with filter g\n",
      "   No input images require a fringe correction.\n",
      "   .\n",
      "   PRIMITIVE: mosaicDetectors\n",
      "   --------------------------\n",
      "   Array maps to [1:1023,2:2112]\n",
      "   Array maps to [1056:2079,1:2112]\n",
      "   Array maps to [2111:3133,1:2111]\n",
      "WARNING: FITSFixedWarning: 'datfix' made the change 'Set DATE-OBS to '2018-04-19T03:27:58.541' from MJD-OBS'. [astropy.wcs.wcs]\n",
      "   FITSFixedWarning: 'datfix' made the change 'Set DATE-OBS to '2018-04-19T03:27:58.541' from MJD-OBS'.\n",
      "   Array maps to [1:1023,2:2112]\n",
      "   Array maps to [1056:2079,1:2112]\n",
      "   Array maps to [2111:3133,1:2111]\n",
      "WARNING: FITSFixedWarning: 'datfix' made the change 'Set DATE-OBS to '2018-04-19T03:36:16.559' from MJD-OBS'. [astropy.wcs.wcs]\n",
      "   FITSFixedWarning: 'datfix' made the change 'Set DATE-OBS to '2018-04-19T03:36:16.559' from MJD-OBS'.\n",
      "   Array maps to [1:1023,2:2112]\n",
      "   Array maps to [1056:2079,1:2112]\n",
      "   Array maps to [2111:3133,1:2111]\n",
      "WARNING: FITSFixedWarning: 'datfix' made the change 'Set DATE-OBS to '2018-04-19T03:44:36.569' from MJD-OBS'. [astropy.wcs.wcs]\n",
      "   FITSFixedWarning: 'datfix' made the change 'Set DATE-OBS to '2018-04-19T03:44:36.569' from MJD-OBS'.\n",
      "   Array maps to [1:1023,2:2112]\n",
      "   Array maps to [1056:2079,1:2112]\n",
      "   Array maps to [2111:3133,1:2111]\n",
      "WARNING: FITSFixedWarning: 'datfix' made the change 'Set DATE-OBS to '2018-04-19T03:52:53.551' from MJD-OBS'. [astropy.wcs.wcs]\n",
      "   FITSFixedWarning: 'datfix' made the change 'Set DATE-OBS to '2018-04-19T03:52:53.551' from MJD-OBS'.\n",
      "   Array maps to [1:1023,2:2112]\n",
      "   Array maps to [1056:2079,1:2112]\n",
      "   Array maps to [2111:3133,1:2111]\n",
      "WARNING: FITSFixedWarning: 'datfix' made the change 'Set DATE-OBS to '2018-04-19T04:01:13.533' from MJD-OBS'. [astropy.wcs.wcs]\n",
      "   FITSFixedWarning: 'datfix' made the change 'Set DATE-OBS to '2018-04-19T04:01:13.533' from MJD-OBS'.\n",
      "   .\n",
      "   PRIMITIVE: detectSources\n",
      "   ------------------------\n",
      "   Found 581 sources in S20180419S0098_mosaic.fits:1\n",
      "   Found 558 sources in S20180419S0099_mosaic.fits:1\n",
      "   Found 489 sources in S20180419S0100_mosaic.fits:1\n",
      "   Found 503 sources in S20180419S0101_mosaic.fits:1\n",
      "   Found 470 sources in S20180419S0102_mosaic.fits:1\n",
      "   .\n",
      "   PRIMITIVE: adjustWCSToReference\n",
      "   -------------------------------\n",
      "   Reference image: S20180419S0098_sourcesDetected.fits\n",
      "   Cross-correlating sources in S20180419S0098_sourcesDetected.fits, S20180419S0099_sourcesDetected.fits\n",
      "WARNING: FITSFixedWarning: 'datfix' made the change 'Set DATE-OBS to '2018-04-19T03:27:58.541' from MJD-OBS'. [astropy.wcs.wcs]\n",
      "   FITSFixedWarning: 'datfix' made the change 'Set DATE-OBS to '2018-04-19T03:27:58.541' from MJD-OBS'.\n",
      "WARNING: FITSFixedWarning: 'datfix' made the change 'Set DATE-OBS to '2018-04-19T03:36:16.559' from MJD-OBS'. [astropy.wcs.wcs]\n",
      "   FITSFixedWarning: 'datfix' made the change 'Set DATE-OBS to '2018-04-19T03:36:16.559' from MJD-OBS'.\n",
      "   Coarse model in 0.15 seconds\n",
      "   x_offset: -1.25\n",
      "   y_offset: -1.25\n",
      "   \n",
      "   Final model in 0.52 seconds\n",
      "   x_offset: -0.038728124046826906\n"
     ]
    },
    {
     "name": "stderr",
     "output_type": "stream",
     "text": [
      "   y_offset: 0.09763060288719316\n",
      "   \n",
      "   S20180419S0099_sourcesDetected.fits: Using source correlation for alignment\n",
      "   Refined transformation\n",
      "   x_offset: -0.03882320428985302\n",
      "   y_offset: 0.09800812183152957\n",
      "   \n",
      "   Cross-correlating sources in S20180419S0098_sourcesDetected.fits, S20180419S0100_sourcesDetected.fits\n",
      "WARNING: FITSFixedWarning: 'datfix' made the change 'Set DATE-OBS to '2018-04-19T03:44:36.569' from MJD-OBS'. [astropy.wcs.wcs]\n",
      "   FITSFixedWarning: 'datfix' made the change 'Set DATE-OBS to '2018-04-19T03:44:36.569' from MJD-OBS'.\n",
      "   Coarse model in 0.15 seconds\n",
      "   x_offset: -1.25\n",
      "   y_offset: -1.25\n",
      "   \n",
      "   Final model in 0.52 seconds\n",
      "   x_offset: 0.1844274654831679\n",
      "   y_offset: -0.8530471203457637\n",
      "   \n",
      "   S20180419S0100_sourcesDetected.fits: Using source correlation for alignment\n",
      "   Refined transformation\n",
      "   x_offset: 0.18457842582189266\n",
      "   y_offset: -0.853254790405841\n",
      "   \n",
      "   Cross-correlating sources in S20180419S0098_sourcesDetected.fits, S20180419S0101_sourcesDetected.fits\n",
      "WARNING: FITSFixedWarning: 'datfix' made the change 'Set DATE-OBS to '2018-04-19T03:52:53.551' from MJD-OBS'. [astropy.wcs.wcs]\n",
      "   FITSFixedWarning: 'datfix' made the change 'Set DATE-OBS to '2018-04-19T03:52:53.551' from MJD-OBS'.\n",
      "   Coarse model in 0.15 seconds\n",
      "   x_offset: -1.25\n",
      "   y_offset: -1.25\n",
      "   \n",
      "   Final model in 0.52 seconds\n",
      "   x_offset: 0.45584819177383906\n",
      "   y_offset: -1.0692492754287741\n",
      "   \n",
      "   S20180419S0101_sourcesDetected.fits: Using source correlation for alignment\n",
      "   Refined transformation\n",
      "   x_offset: 0.45562976238514896\n",
      "   y_offset: -1.0694813012299385\n",
      "   \n",
      "   Cross-correlating sources in S20180419S0098_sourcesDetected.fits, S20180419S0102_sourcesDetected.fits\n",
      "WARNING: FITSFixedWarning: 'datfix' made the change 'Set DATE-OBS to '2018-04-19T04:01:13.533' from MJD-OBS'. [astropy.wcs.wcs]\n",
      "   FITSFixedWarning: 'datfix' made the change 'Set DATE-OBS to '2018-04-19T04:01:13.533' from MJD-OBS'.\n",
      "   Coarse model in 0.15 seconds\n",
      "   x_offset: -1.25\n",
      "   y_offset: -1.25\n",
      "   \n",
      "   Final model in 0.58 seconds\n",
      "   x_offset: 0.5136470824604658\n",
      "   y_offset: -2.015063760407088\n",
      "   \n",
      "   S20180419S0102_sourcesDetected.fits: Using source correlation for alignment\n",
      "   Refined transformation\n",
      "   x_offset: 0.5135557102658959\n",
      "   y_offset: -2.015328309948976\n",
      "   \n",
      "   .\n",
      "   PRIMITIVE: resampleToCommonFrame\n",
      "   --------------------------------\n",
      "WARNING: FITSFixedWarning: 'datfix' made the change 'Set DATE-OBS to '2018-04-19T03:27:58.541' from MJD-OBS'. [astropy.wcs.wcs]\n",
      "   FITSFixedWarning: 'datfix' made the change 'Set DATE-OBS to '2018-04-19T03:27:58.541' from MJD-OBS'.\n",
      "WARNING: FITSFixedWarning: 'datfix' made the change 'Set DATE-OBS to '2018-04-19T03:36:16.559' from MJD-OBS'. [astropy.wcs.wcs]\n",
      "   FITSFixedWarning: 'datfix' made the change 'Set DATE-OBS to '2018-04-19T03:36:16.559' from MJD-OBS'.\n",
      "WARNING: FITSFixedWarning: 'datfix' made the change 'Set DATE-OBS to '2018-04-19T03:44:36.569' from MJD-OBS'. [astropy.wcs.wcs]\n",
      "   FITSFixedWarning: 'datfix' made the change 'Set DATE-OBS to '2018-04-19T03:44:36.569' from MJD-OBS'.\n",
      "WARNING: FITSFixedWarning: 'datfix' made the change 'Set DATE-OBS to '2018-04-19T03:52:53.551' from MJD-OBS'. [astropy.wcs.wcs]\n",
      "   FITSFixedWarning: 'datfix' made the change 'Set DATE-OBS to '2018-04-19T03:52:53.551' from MJD-OBS'.\n",
      "WARNING: FITSFixedWarning: 'datfix' made the change 'Set DATE-OBS to '2018-04-19T04:01:13.533' from MJD-OBS'. [astropy.wcs.wcs]\n",
      "   FITSFixedWarning: 'datfix' made the change 'Set DATE-OBS to '2018-04-19T04:01:13.533' from MJD-OBS'.\n",
      "   .\n",
      "   PRIMITIVE: flagCosmicRaysByStacking\n",
      "   -----------------------------------\n",
      "      PRIMITIVE: stackFrames\n",
      "      ----------------------\n",
      "      Combining images. Applying offsets.\n",
      "      S20180419S0098_align.fits                    0.000\n",
      "      S20180419S0099_align.fits                   -3.724\n",
      "      S20180419S0100_align.fits                    4.895\n",
      "      S20180419S0101_align.fits                    4.407\n",
      "      S20180419S0102_align.fits                   -7.763\n",
      "      \n",
      "      .\n",
      "      PRIMITIVE: detectSources\n",
      "      ------------------------\n",
      "      Found 1041 sources in S20180419S0098_stack.fits:1\n",
      "      .\n",
      "      PRIMITIVE: subtractSky\n",
      "      ----------------------\n",
      "      Subtracting the image (S20180419S0098_sourcesDetected.fits) from the science AstroData object S20180419S0098_align.fits\n",
      "      .\n",
      "      PRIMITIVE: subtractSky\n",
      "      ----------------------\n",
      "      Subtracting the image (S20180419S0098_sourcesDetected.fits) from the science AstroData object S20180419S0099_align.fits\n",
      "      .\n",
      "      PRIMITIVE: subtractSky\n",
      "      ----------------------\n",
      "      Subtracting the image (S20180419S0098_sourcesDetected.fits) from the science AstroData object S20180419S0100_align.fits\n",
      "      .\n",
      "      PRIMITIVE: subtractSky\n",
      "      ----------------------\n",
      "      Subtracting the image (S20180419S0098_sourcesDetected.fits) from the science AstroData object S20180419S0101_align.fits\n",
      "      .\n",
      "      PRIMITIVE: subtractSky\n",
      "      ----------------------\n",
      "      Subtracting the image (S20180419S0098_sourcesDetected.fits) from the science AstroData object S20180419S0102_align.fits\n",
      "      .\n",
      "   .\n",
      "   PRIMITIVE: stackFrames\n",
      "   ----------------------\n",
      "   Combining images. Applying offsets.\n",
      "   S20180419S0098_CRMasked.fits                 0.000\n",
      "   S20180419S0099_CRMasked.fits                -3.576\n",
      "   S20180419S0100_CRMasked.fits                 5.066\n",
      "   S20180419S0101_CRMasked.fits                 4.294\n",
      "   S20180419S0102_CRMasked.fits                -7.673\n",
      "   \n",
      "   .\n",
      "\tWrote S20180419S0098_stack.fits in output directory\n",
      "\n",
      "reduce completed successfully.\n"
     ]
    }
   ],
   "source": [
    "reduce_science = Reduce()\n",
    "reduce_science.files.extend(list_science)\n",
    "reduce_science.runr()"
   ]
  },
  {
   "cell_type": "markdown",
   "metadata": {},
   "source": [
    "**Display the Stacked Image**"
   ]
  },
  {
   "cell_type": "code",
   "execution_count": 10,
   "metadata": {
    "scrolled": true
   },
   "outputs": [
    {
     "name": "stdout",
     "output_type": "stream",
     "text": [
      "Filename: S20180419S0098_stack.fits\n",
      "No.    Name      Ver    Type      Cards   Dimensions   Format\n",
      "  0  PRIMARY       1 PrimaryHDU     252   ()      \n",
      "  1  SCI           1 ImageHDU       162   (3246, 2182)   float32   \n",
      "  2  VAR           1 ImageHDU       162   (3246, 2182)   float32   \n",
      "  3  DQ            1 ImageHDU       162   (3246, 2182)   int16 (rescales to uint16)   \n"
     ]
    }
   ],
   "source": [
    "image_file = \"S20180419S0098_stack.fits\"\n",
    "hdu_list = fits.open(image_file)\n",
    "hdu_list.info()"
   ]
  },
  {
   "cell_type": "code",
   "execution_count": 11,
   "metadata": {},
   "outputs": [
    {
     "name": "stdout",
     "output_type": "stream",
     "text": [
      "(2182, 3246)\n"
     ]
    }
   ],
   "source": [
    "image_data = fits.getdata(image_file, ext=1)\n",
    "print(image_data.shape)"
   ]
  },
  {
   "cell_type": "code",
   "execution_count": 15,
   "metadata": {
    "scrolled": false
   },
   "outputs": [
    {
     "data": {
      "image/png": "[encoded data removed]",
      "text/plain": [
       "<Figure size 1080x1080 with 1 Axes>"
      ]
     },
     "metadata": {
      "needs_background": "light"
     },
     "output_type": "display_data"
    }
   ],
   "source": [
    "plt.figure(figsize = (15,15))\n",
    "plt.imshow(image_data,cmap='gray',norm=LogNorm(vmin=3000, vmax=60000))\n",
    "plt.xlim(900,2500)\n",
    "plt.ylim(1600,600)\n",
    "plt.show()"
   ]
  },
  {
   "cell_type": "markdown",
   "metadata": {},
   "source": [
    "**Optional: remove duplicate calibrations and remove raw data (uncomment lines before running)**"
   ]
  },
  {
   "cell_type": "code",
   "execution_count": 79,
   "metadata": {},
   "outputs": [],
   "source": [
    "#!rm -rf *_bias.fits *_flat.fits\n",
    "#!rm -rf raw/"
   ]
  }
 ],
 "metadata": {
  "kernelspec": {
   "display_name": "Python [conda env:dragons] *",
   "language": "python",
   "name": "conda-env-dragons-py"
  },
  "language_info": {
   "codemirror_mode": {
    "name": "ipython",
    "version": 3
   },
   "file_extension": ".py",
   "mimetype": "text/x-python",
   "name": "python",
   "nbconvert_exporter": "python",
   "pygments_lexer": "ipython3",
   "version": "3.6.12"
  }
 },
 "nbformat": 4,
 "nbformat_minor": 4
}
